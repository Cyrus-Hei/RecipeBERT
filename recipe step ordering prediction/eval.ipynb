{
 "cells": [
  {
   "cell_type": "code",
   "execution_count": 1,
   "metadata": {},
   "outputs": [],
   "source": [
    "import pandas as pd"
   ]
  },
  {
   "cell_type": "code",
   "execution_count": 1,
   "metadata": {},
   "outputs": [],
   "source": [
    "from transformers import AutoTokenizer"
   ]
  },
  {
   "cell_type": "code",
   "execution_count": 2,
   "metadata": {},
   "outputs": [],
   "source": [
    "tok = AutoTokenizer.from_pretrained('bert-base-cased')"
   ]
  },
  {
   "cell_type": "code",
   "execution_count": 4,
   "metadata": {},
   "outputs": [
    {
     "data": {
      "text/plain": [
       "{'input_ids': [101, 6816, 1158, 1103, 4743, 1111, 1275, 1904, 17376, 1436, 2686, 102], 'token_type_ids': [0, 0, 0, 0, 0, 0, 0, 0, 0, 0, 0, 0], 'attention_mask': [1, 1, 1, 1, 1, 1, 1, 1, 1, 1, 1, 1]}"
      ]
     },
     "execution_count": 4,
     "metadata": {},
     "output_type": "execute_result"
    }
   ],
   "source": [
    "tok('Cooking the wings for 10 minutes yields best results')"
   ]
  },
  {
   "cell_type": "code",
   "execution_count": 5,
   "metadata": {},
   "outputs": [
    {
     "data": {
      "text/plain": [
       "['[CLS]',\n",
       " 'Cook',\n",
       " '##ing',\n",
       " 'the',\n",
       " 'wings',\n",
       " 'for',\n",
       " '10',\n",
       " 'minutes',\n",
       " 'yields',\n",
       " 'best',\n",
       " 'results',\n",
       " '[SEP]']"
      ]
     },
     "execution_count": 5,
     "metadata": {},
     "output_type": "execute_result"
    }
   ],
   "source": [
    "tok.convert_ids_to_tokens([101, 6816, 1158, 1103, 4743, 1111, 1275, 1904, 17376, 1436, 2686, 102])"
   ]
  },
  {
   "cell_type": "code",
   "execution_count": 6,
   "metadata": {},
   "outputs": [],
   "source": [
    "df1 = pd.read_parquet('test_bert_nsp_inrecipe.gzip')\n",
    "df2 = pd.read_parquet('test_bert_nsp_random.gzip')"
   ]
  },
  {
   "cell_type": "code",
   "execution_count": 9,
   "metadata": {},
   "outputs": [],
   "source": [
    "df1_ = df1.sample(30000)\n",
    "df2_ = df2.sample(30000)"
   ]
  },
  {
   "cell_type": "code",
   "execution_count": 15,
   "metadata": {},
   "outputs": [],
   "source": [
    "df3 = pd.concat([df1_,df2_]).reset_index(drop=True)"
   ]
  },
  {
   "cell_type": "code",
   "execution_count": 17,
   "metadata": {},
   "outputs": [],
   "source": [
    "df3.to_parquet('test.gzip', compression='gzip')"
   ]
  },
  {
   "cell_type": "code",
   "execution_count": 8,
   "metadata": {},
   "outputs": [
    {
     "data": {
      "text/html": [
       "<div>\n",
       "<style scoped>\n",
       "    .dataframe tbody tr th:only-of-type {\n",
       "        vertical-align: middle;\n",
       "    }\n",
       "\n",
       "    .dataframe tbody tr th {\n",
       "        vertical-align: top;\n",
       "    }\n",
       "\n",
       "    .dataframe thead th {\n",
       "        text-align: right;\n",
       "    }\n",
       "</style>\n",
       "<table border=\"1\" class=\"dataframe\">\n",
       "  <thead>\n",
       "    <tr style=\"text-align: right;\">\n",
       "      <th></th>\n",
       "      <th>sentences</th>\n",
       "      <th>tags</th>\n",
       "    </tr>\n",
       "  </thead>\n",
       "  <tbody>\n",
       "    <tr>\n",
       "      <th>491381</th>\n",
       "      <td>Mold cookies around orange to create cupped sh...</td>\n",
       "      <td>[0, 1]</td>\n",
       "    </tr>\n",
       "    <tr>\n",
       "      <th>180325</th>\n",
       "      <td>Add pineapple and coconut.|Bake in pie shells ...</td>\n",
       "      <td>[1, 0]</td>\n",
       "    </tr>\n",
       "    <tr>\n",
       "      <th>177173</th>\n",
       "      <td>Mix well.|Drop by teaspoons onto wax lined paper.</td>\n",
       "      <td>[1, 0]</td>\n",
       "    </tr>\n",
       "    <tr>\n",
       "      <th>83133</th>\n",
       "      <td>In a large stew pot, add all ingredients and b...</td>\n",
       "      <td>[1, 0]</td>\n",
       "    </tr>\n",
       "    <tr>\n",
       "      <th>314929</th>\n",
       "      <td>Add cereal, peanut butter and vanilla.|Drop on...</td>\n",
       "      <td>[0, 1]</td>\n",
       "    </tr>\n",
       "    <tr>\n",
       "      <th>...</th>\n",
       "      <td>...</td>\n",
       "      <td>...</td>\n",
       "    </tr>\n",
       "    <tr>\n",
       "      <th>71030</th>\n",
       "      <td>Top with melted butter and crushed crackers.|B...</td>\n",
       "      <td>[1, 0]</td>\n",
       "    </tr>\n",
       "    <tr>\n",
       "      <th>220526</th>\n",
       "      <td>Serve hot from the oven.|A favorite of all our...</td>\n",
       "      <td>[1, 0]</td>\n",
       "    </tr>\n",
       "    <tr>\n",
       "      <th>153523</th>\n",
       "      <td>Beat until peaks form.|Add jello and cream che...</td>\n",
       "      <td>[1, 0]</td>\n",
       "    </tr>\n",
       "    <tr>\n",
       "      <th>386467</th>\n",
       "      <td>Cover and chill. To serve, cut tomatoes in 6th...</td>\n",
       "      <td>[0, 1]</td>\n",
       "    </tr>\n",
       "    <tr>\n",
       "      <th>335852</th>\n",
       "      <td>Dip half of balls in plain or colored sugar.|S...</td>\n",
       "      <td>[0, 1]</td>\n",
       "    </tr>\n",
       "  </tbody>\n",
       "</table>\n",
       "<p>56270 rows × 2 columns</p>\n",
       "</div>"
      ],
      "text/plain": [
       "                                                sentences    tags\n",
       "491381  Mold cookies around orange to create cupped sh...  [0, 1]\n",
       "180325  Add pineapple and coconut.|Bake in pie shells ...  [1, 0]\n",
       "177173  Mix well.|Drop by teaspoons onto wax lined paper.  [1, 0]\n",
       "83133   In a large stew pot, add all ingredients and b...  [1, 0]\n",
       "314929  Add cereal, peanut butter and vanilla.|Drop on...  [0, 1]\n",
       "...                                                   ...     ...\n",
       "71030   Top with melted butter and crushed crackers.|B...  [1, 0]\n",
       "220526  Serve hot from the oven.|A favorite of all our...  [1, 0]\n",
       "153523  Beat until peaks form.|Add jello and cream che...  [1, 0]\n",
       "386467  Cover and chill. To serve, cut tomatoes in 6th...  [0, 1]\n",
       "335852  Dip half of balls in plain or colored sugar.|S...  [0, 1]\n",
       "\n",
       "[56270 rows x 2 columns]"
      ]
     },
     "execution_count": 8,
     "metadata": {},
     "output_type": "execute_result"
    }
   ],
   "source": [
    "df1"
   ]
  },
  {
   "cell_type": "code",
   "execution_count": 7,
   "metadata": {},
   "outputs": [
    {
     "data": {
      "text/html": [
       "<div>\n",
       "<style scoped>\n",
       "    .dataframe tbody tr th:only-of-type {\n",
       "        vertical-align: middle;\n",
       "    }\n",
       "\n",
       "    .dataframe tbody tr th {\n",
       "        vertical-align: top;\n",
       "    }\n",
       "\n",
       "    .dataframe thead th {\n",
       "        text-align: right;\n",
       "    }\n",
       "</style>\n",
       "<table border=\"1\" class=\"dataframe\">\n",
       "  <thead>\n",
       "    <tr style=\"text-align: right;\">\n",
       "      <th></th>\n",
       "      <th>sentences</th>\n",
       "      <th>tags</th>\n",
       "    </tr>\n",
       "  </thead>\n",
       "  <tbody>\n",
       "    <tr>\n",
       "      <th>491381</th>\n",
       "      <td>Bring to a boil.|Do the toothpick test to see ...</td>\n",
       "      <td>[0, 1]</td>\n",
       "    </tr>\n",
       "    <tr>\n",
       "      <th>180325</th>\n",
       "      <td>Cover with glass lid or plastic wrap.|Cook 5 m...</td>\n",
       "      <td>[1, 0]</td>\n",
       "    </tr>\n",
       "    <tr>\n",
       "      <th>177173</th>\n",
       "      <td>Spread in greased cookie sheet.|Bake at 350° f...</td>\n",
       "      <td>[1, 0]</td>\n",
       "    </tr>\n",
       "    <tr>\n",
       "      <th>83133</th>\n",
       "      <td>Mix oleo, beans, eggs and sugar.|Add vanilla, ...</td>\n",
       "      <td>[1, 0]</td>\n",
       "    </tr>\n",
       "    <tr>\n",
       "      <th>314929</th>\n",
       "      <td>Cover pan 2 to 3 minutes to dissolve sugar cry...</td>\n",
       "      <td>[0, 1]</td>\n",
       "    </tr>\n",
       "    <tr>\n",
       "      <th>...</th>\n",
       "      <td>...</td>\n",
       "      <td>...</td>\n",
       "    </tr>\n",
       "    <tr>\n",
       "      <th>71030</th>\n",
       "      <td>Preheat oven to 375°.|Bake pie crust 10 minute...</td>\n",
       "      <td>[1, 0]</td>\n",
       "    </tr>\n",
       "    <tr>\n",
       "      <th>220526</th>\n",
       "      <td>Mix thoroughly.|Cover and let stand for 2 weeks.</td>\n",
       "      <td>[1, 0]</td>\n",
       "    </tr>\n",
       "    <tr>\n",
       "      <th>153523</th>\n",
       "      <td>Add sugars and cream well.|Add eggs.</td>\n",
       "      <td>[1, 0]</td>\n",
       "    </tr>\n",
       "    <tr>\n",
       "      <th>386467</th>\n",
       "      <td>Fold in carrots, nuts, raisins and flakes.|Coo...</td>\n",
       "      <td>[0, 1]</td>\n",
       "    </tr>\n",
       "    <tr>\n",
       "      <th>335852</th>\n",
       "      <td>Sprinkle with grated cheese.|Cream well.</td>\n",
       "      <td>[0, 1]</td>\n",
       "    </tr>\n",
       "  </tbody>\n",
       "</table>\n",
       "<p>56270 rows × 2 columns</p>\n",
       "</div>"
      ],
      "text/plain": [
       "                                                sentences    tags\n",
       "491381  Bring to a boil.|Do the toothpick test to see ...  [0, 1]\n",
       "180325  Cover with glass lid or plastic wrap.|Cook 5 m...  [1, 0]\n",
       "177173  Spread in greased cookie sheet.|Bake at 350° f...  [1, 0]\n",
       "83133   Mix oleo, beans, eggs and sugar.|Add vanilla, ...  [1, 0]\n",
       "314929  Cover pan 2 to 3 minutes to dissolve sugar cry...  [0, 1]\n",
       "...                                                   ...     ...\n",
       "71030   Preheat oven to 375°.|Bake pie crust 10 minute...  [1, 0]\n",
       "220526   Mix thoroughly.|Cover and let stand for 2 weeks.  [1, 0]\n",
       "153523               Add sugars and cream well.|Add eggs.  [1, 0]\n",
       "386467  Fold in carrots, nuts, raisins and flakes.|Coo...  [0, 1]\n",
       "335852           Sprinkle with grated cheese.|Cream well.  [0, 1]\n",
       "\n",
       "[56270 rows x 2 columns]"
      ]
     },
     "execution_count": 7,
     "metadata": {},
     "output_type": "execute_result"
    }
   ],
   "source": [
    "df2"
   ]
  }
 ],
 "metadata": {
  "kernelspec": {
   "display_name": "Python 3",
   "language": "python",
   "name": "python3"
  },
  "language_info": {
   "codemirror_mode": {
    "name": "ipython",
    "version": 3
   },
   "file_extension": ".py",
   "mimetype": "text/x-python",
   "name": "python",
   "nbconvert_exporter": "python",
   "pygments_lexer": "ipython3",
   "version": "3.10.11"
  }
 },
 "nbformat": 4,
 "nbformat_minor": 2
}
