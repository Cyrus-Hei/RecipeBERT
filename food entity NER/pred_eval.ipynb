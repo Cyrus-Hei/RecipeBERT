{
 "cells": [
  {
   "cell_type": "code",
   "execution_count": 19,
   "metadata": {},
   "outputs": [],
   "source": [
    "import pandas as pd\n",
    "import numpy as np\n",
    "from sklearn.metrics import f1_score, accuracy_score, classification_report"
   ]
  },
  {
   "cell_type": "code",
   "execution_count": 20,
   "metadata": {},
   "outputs": [],
   "source": [
    "deb = pd.read_parquet('pred_deb_nolora.gzip')\n",
    "drob = pd.read_parquet('pred_drob_nolora.gzip')\n",
    "# de = pd.read_parquet('pred_deb_nolora.gzip')\n",
    "# ro = pd.read_parquet('pred_drob_nolora.gzip')"
   ]
  },
  {
   "cell_type": "code",
   "execution_count": 21,
   "metadata": {},
   "outputs": [
    {
     "data": {
      "text/html": [
       "<div>\n",
       "<style scoped>\n",
       "    .dataframe tbody tr th:only-of-type {\n",
       "        vertical-align: middle;\n",
       "    }\n",
       "\n",
       "    .dataframe tbody tr th {\n",
       "        vertical-align: top;\n",
       "    }\n",
       "\n",
       "    .dataframe thead th {\n",
       "        text-align: right;\n",
       "    }\n",
       "</style>\n",
       "<table border=\"1\" class=\"dataframe\">\n",
       "  <thead>\n",
       "    <tr style=\"text-align: right;\">\n",
       "      <th></th>\n",
       "      <th>output</th>\n",
       "      <th>labels</th>\n",
       "    </tr>\n",
       "  </thead>\n",
       "  <tbody>\n",
       "    <tr>\n",
       "      <th>0</th>\n",
       "      <td>[0, 0, 0, 0, 0, 0, 0, 0, 0, 0, 0, 0, 0, 0, 0, ...</td>\n",
       "      <td>[0, 0, 0, 0, 0, 0, 0, 0, 0, 0, 0, 0, 0, 0, 0, ...</td>\n",
       "    </tr>\n",
       "    <tr>\n",
       "      <th>1</th>\n",
       "      <td>[0, 0, 0, 0, 0, 0, 1, 0]</td>\n",
       "      <td>[0, 0, 0, 0, 0, 0, 1, 0]</td>\n",
       "    </tr>\n",
       "    <tr>\n",
       "      <th>2</th>\n",
       "      <td>[0, 0, 0, 0, 0, 1, 0, 0, 0]</td>\n",
       "      <td>[0, 0, 0, 0, 0, 1, 0, 0, 0]</td>\n",
       "    </tr>\n",
       "    <tr>\n",
       "      <th>3</th>\n",
       "      <td>[0, 1, 0, 1, 0, 1, 0, 1, 0, 0, 0, 0, 0, 0, 0, ...</td>\n",
       "      <td>[0, 1, 0, 1, 0, 1, 0, 1, 0, 0, 0, 0, 0, 0, 0, ...</td>\n",
       "    </tr>\n",
       "    <tr>\n",
       "      <th>4</th>\n",
       "      <td>[0, 0, 0, 0, 0, 0, 0, 0, 1, 1, 2, 0, 0, 0]</td>\n",
       "      <td>[0, 0, 0, 0, 0, 0, 0, 0, 1, 1, 2, 0, 0, 0]</td>\n",
       "    </tr>\n",
       "    <tr>\n",
       "      <th>...</th>\n",
       "      <td>...</td>\n",
       "      <td>...</td>\n",
       "    </tr>\n",
       "    <tr>\n",
       "      <th>7703</th>\n",
       "      <td>[0, 0, 0, 0, 1, 0, 0, 1, 2, 0]</td>\n",
       "      <td>[0, 0, 0, 0, 1, 0, 0, 1, 2, 0]</td>\n",
       "    </tr>\n",
       "    <tr>\n",
       "      <th>7704</th>\n",
       "      <td>[0, 1, 2, 0, 0, 0, 0, 1, 2, 0, 0, 0, 0, 0, 0, ...</td>\n",
       "      <td>[0, 1, 2, 0, 0, 0, 0, 1, 2, 0, 0, 0, 0, 0, 0, ...</td>\n",
       "    </tr>\n",
       "    <tr>\n",
       "      <th>7705</th>\n",
       "      <td>[0, 0, 0, 0, 0, 0, 0, 1, 0, 0, 0]</td>\n",
       "      <td>[0, 0, 0, 0, 0, 0, 0, 1, 0, 0, 0]</td>\n",
       "    </tr>\n",
       "    <tr>\n",
       "      <th>7706</th>\n",
       "      <td>[0, 1, 0, 0, 0, 1, 0, 0, 0, 0, 0, 0, 0, 0, 0, ...</td>\n",
       "      <td>[0, 1, 2, 0, 0, 1, 0, 0, 0, 0, 0, 0, 0, 0, 0, ...</td>\n",
       "    </tr>\n",
       "    <tr>\n",
       "      <th>7707</th>\n",
       "      <td>[0, 0, 1, 0, 0]</td>\n",
       "      <td>[0, 0, 1, 0, 0]</td>\n",
       "    </tr>\n",
       "  </tbody>\n",
       "</table>\n",
       "<p>7708 rows × 2 columns</p>\n",
       "</div>"
      ],
      "text/plain": [
       "                                                 output  \\\n",
       "0     [0, 0, 0, 0, 0, 0, 0, 0, 0, 0, 0, 0, 0, 0, 0, ...   \n",
       "1                              [0, 0, 0, 0, 0, 0, 1, 0]   \n",
       "2                           [0, 0, 0, 0, 0, 1, 0, 0, 0]   \n",
       "3     [0, 1, 0, 1, 0, 1, 0, 1, 0, 0, 0, 0, 0, 0, 0, ...   \n",
       "4            [0, 0, 0, 0, 0, 0, 0, 0, 1, 1, 2, 0, 0, 0]   \n",
       "...                                                 ...   \n",
       "7703                     [0, 0, 0, 0, 1, 0, 0, 1, 2, 0]   \n",
       "7704  [0, 1, 2, 0, 0, 0, 0, 1, 2, 0, 0, 0, 0, 0, 0, ...   \n",
       "7705                  [0, 0, 0, 0, 0, 0, 0, 1, 0, 0, 0]   \n",
       "7706  [0, 1, 0, 0, 0, 1, 0, 0, 0, 0, 0, 0, 0, 0, 0, ...   \n",
       "7707                                    [0, 0, 1, 0, 0]   \n",
       "\n",
       "                                                 labels  \n",
       "0     [0, 0, 0, 0, 0, 0, 0, 0, 0, 0, 0, 0, 0, 0, 0, ...  \n",
       "1                              [0, 0, 0, 0, 0, 0, 1, 0]  \n",
       "2                           [0, 0, 0, 0, 0, 1, 0, 0, 0]  \n",
       "3     [0, 1, 0, 1, 0, 1, 0, 1, 0, 0, 0, 0, 0, 0, 0, ...  \n",
       "4            [0, 0, 0, 0, 0, 0, 0, 0, 1, 1, 2, 0, 0, 0]  \n",
       "...                                                 ...  \n",
       "7703                     [0, 0, 0, 0, 1, 0, 0, 1, 2, 0]  \n",
       "7704  [0, 1, 2, 0, 0, 0, 0, 1, 2, 0, 0, 0, 0, 0, 0, ...  \n",
       "7705                  [0, 0, 0, 0, 0, 0, 0, 1, 0, 0, 0]  \n",
       "7706  [0, 1, 2, 0, 0, 1, 0, 0, 0, 0, 0, 0, 0, 0, 0, ...  \n",
       "7707                                    [0, 0, 1, 0, 0]  \n",
       "\n",
       "[7708 rows x 2 columns]"
      ]
     },
     "execution_count": 21,
     "metadata": {},
     "output_type": "execute_result"
    }
   ],
   "source": [
    "deb"
   ]
  },
  {
   "cell_type": "code",
   "execution_count": 22,
   "metadata": {},
   "outputs": [
    {
     "data": {
      "text/html": [
       "<div>\n",
       "<style scoped>\n",
       "    .dataframe tbody tr th:only-of-type {\n",
       "        vertical-align: middle;\n",
       "    }\n",
       "\n",
       "    .dataframe tbody tr th {\n",
       "        vertical-align: top;\n",
       "    }\n",
       "\n",
       "    .dataframe thead th {\n",
       "        text-align: right;\n",
       "    }\n",
       "</style>\n",
       "<table border=\"1\" class=\"dataframe\">\n",
       "  <thead>\n",
       "    <tr style=\"text-align: right;\">\n",
       "      <th></th>\n",
       "      <th>output</th>\n",
       "      <th>labels</th>\n",
       "    </tr>\n",
       "  </thead>\n",
       "  <tbody>\n",
       "    <tr>\n",
       "      <th>0</th>\n",
       "      <td>[0, 0, 0, 0, 0, 0, 0, 0, 0, 0, 0, 0, 0, 0, 0, ...</td>\n",
       "      <td>[0, 0, 0, 0, 0, 0, 0, 0, 0, 0, 0, 0, 0, 0, 0, ...</td>\n",
       "    </tr>\n",
       "    <tr>\n",
       "      <th>1</th>\n",
       "      <td>[0, 0, 0, 0, 0, 0, 1, 0]</td>\n",
       "      <td>[0, 0, 0, 0, 0, 0, 1, 0]</td>\n",
       "    </tr>\n",
       "    <tr>\n",
       "      <th>2</th>\n",
       "      <td>[0, 0, 0, 0, 0, 1, 0, 0, 0, 0]</td>\n",
       "      <td>[0, 0, 0, 0, 0, 1, 0, 0, 0, 0]</td>\n",
       "    </tr>\n",
       "    <tr>\n",
       "      <th>3</th>\n",
       "      <td>[0, 1, 0, 1, 0, 1, 0, 1, 0, 0, 0, 0, 0, 0, 0, ...</td>\n",
       "      <td>[0, 1, 0, 1, 0, 1, 0, 1, 0, 0, 0, 0, 0, 0, 0, ...</td>\n",
       "    </tr>\n",
       "    <tr>\n",
       "      <th>4</th>\n",
       "      <td>[0, 0, 0, 0, 0, 0, 0, 0, 0, 1, 1, 1, 2, 0, 0, 0]</td>\n",
       "      <td>[0, 0, 0, 0, 0, 0, 0, 0, 0, 1, 1, 1, 2, 0, 0, 0]</td>\n",
       "    </tr>\n",
       "    <tr>\n",
       "      <th>...</th>\n",
       "      <td>...</td>\n",
       "      <td>...</td>\n",
       "    </tr>\n",
       "    <tr>\n",
       "      <th>7703</th>\n",
       "      <td>[0, 0, 0, 0, 1, 0, 0, 1, 2, 2, 2, 0]</td>\n",
       "      <td>[0, 0, 0, 0, 1, 0, 0, 1, 2, 2, 2, 0]</td>\n",
       "    </tr>\n",
       "    <tr>\n",
       "      <th>7704</th>\n",
       "      <td>[0, 1, 2, 0, 0, 0, 0, 1, 2, 0, 0, 0, 0, 0, 0, ...</td>\n",
       "      <td>[0, 1, 2, 0, 0, 0, 0, 1, 2, 0, 0, 0, 0, 0, 0, ...</td>\n",
       "    </tr>\n",
       "    <tr>\n",
       "      <th>7705</th>\n",
       "      <td>[0, 0, 0, 0, 0, 0, 0, 1, 0, 0, 0]</td>\n",
       "      <td>[0, 0, 0, 0, 0, 0, 0, 1, 0, 0, 0]</td>\n",
       "    </tr>\n",
       "    <tr>\n",
       "      <th>7706</th>\n",
       "      <td>[0, 1, 2, 0, 0, 1, 0, 0, 0, 0, 0, 0, 0, 0, 0, ...</td>\n",
       "      <td>[0, 1, 2, 0, 0, 1, 0, 0, 0, 0, 0, 0, 0, 0, 0, ...</td>\n",
       "    </tr>\n",
       "    <tr>\n",
       "      <th>7707</th>\n",
       "      <td>[0, 0, 0, 1, 1, 1, 0, 0]</td>\n",
       "      <td>[0, 0, 0, 1, 1, 1, 0, 0]</td>\n",
       "    </tr>\n",
       "  </tbody>\n",
       "</table>\n",
       "<p>7708 rows × 2 columns</p>\n",
       "</div>"
      ],
      "text/plain": [
       "                                                 output  \\\n",
       "0     [0, 0, 0, 0, 0, 0, 0, 0, 0, 0, 0, 0, 0, 0, 0, ...   \n",
       "1                              [0, 0, 0, 0, 0, 0, 1, 0]   \n",
       "2                        [0, 0, 0, 0, 0, 1, 0, 0, 0, 0]   \n",
       "3     [0, 1, 0, 1, 0, 1, 0, 1, 0, 0, 0, 0, 0, 0, 0, ...   \n",
       "4      [0, 0, 0, 0, 0, 0, 0, 0, 0, 1, 1, 1, 2, 0, 0, 0]   \n",
       "...                                                 ...   \n",
       "7703               [0, 0, 0, 0, 1, 0, 0, 1, 2, 2, 2, 0]   \n",
       "7704  [0, 1, 2, 0, 0, 0, 0, 1, 2, 0, 0, 0, 0, 0, 0, ...   \n",
       "7705                  [0, 0, 0, 0, 0, 0, 0, 1, 0, 0, 0]   \n",
       "7706  [0, 1, 2, 0, 0, 1, 0, 0, 0, 0, 0, 0, 0, 0, 0, ...   \n",
       "7707                           [0, 0, 0, 1, 1, 1, 0, 0]   \n",
       "\n",
       "                                                 labels  \n",
       "0     [0, 0, 0, 0, 0, 0, 0, 0, 0, 0, 0, 0, 0, 0, 0, ...  \n",
       "1                              [0, 0, 0, 0, 0, 0, 1, 0]  \n",
       "2                        [0, 0, 0, 0, 0, 1, 0, 0, 0, 0]  \n",
       "3     [0, 1, 0, 1, 0, 1, 0, 1, 0, 0, 0, 0, 0, 0, 0, ...  \n",
       "4      [0, 0, 0, 0, 0, 0, 0, 0, 0, 1, 1, 1, 2, 0, 0, 0]  \n",
       "...                                                 ...  \n",
       "7703               [0, 0, 0, 0, 1, 0, 0, 1, 2, 2, 2, 0]  \n",
       "7704  [0, 1, 2, 0, 0, 0, 0, 1, 2, 0, 0, 0, 0, 0, 0, ...  \n",
       "7705                  [0, 0, 0, 0, 0, 0, 0, 1, 0, 0, 0]  \n",
       "7706  [0, 1, 2, 0, 0, 1, 0, 0, 0, 0, 0, 0, 0, 0, 0, ...  \n",
       "7707                           [0, 0, 0, 1, 1, 1, 0, 0]  \n",
       "\n",
       "[7708 rows x 2 columns]"
      ]
     },
     "execution_count": 22,
     "metadata": {},
     "output_type": "execute_result"
    }
   ],
   "source": [
    "drob"
   ]
  },
  {
   "cell_type": "code",
   "execution_count": 23,
   "metadata": {},
   "outputs": [],
   "source": [
    "debground = [j for i in deb.labels.tolist() for j in i]\n",
    "debpred = [j for i in deb.output.tolist() for j in i]\n",
    "# debground\n",
    "drobground = [j for i in drob.labels.tolist() for j in i]\n",
    "drobpred = [j for i in drob.output.tolist() for j in i]\n",
    "# glro = pd.read_parquet('test_drob_ib_revised.gzip')\n",
    "# globalde = pd.read_parquet('test_deb_ib_nolora.gzip')\n",
    "# gro = pd.read_parquet('test_drob_ib_nolora.gzip')"
   ]
  },
  {
   "cell_type": "code",
   "execution_count": 24,
   "metadata": {},
   "outputs": [
    {
     "name": "stdout",
     "output_type": "stream",
     "text": [
      "0.9750527433495968\n",
      "0.973511499636575\n",
      "0.9931615925058548\n",
      "0.9921726003739758\n"
     ]
    }
   ],
   "source": [
    "print(f1_score(debground, debpred, average='macro'))\n",
    "print(f1_score(drobground, drobpred, average='macro'))\n",
    "print(accuracy_score(debground, debpred))\n",
    "print(accuracy_score(drobground, drobpred))\n",
    "# print(f1_score(groundtags, o3))\n",
    "# print(f1_score(groundtags, o4))\n",
    "# print(f1_score(o3, o4))"
   ]
  },
  {
   "cell_type": "code",
   "execution_count": 25,
   "metadata": {},
   "outputs": [
    {
     "name": "stdout",
     "output_type": "stream",
     "text": [
      "              precision    recall  f1-score   support\n",
      "\n",
      "           0       1.00      1.00      1.00    125921\n",
      "           1       0.98      0.98      0.98     19104\n",
      "           2       0.96      0.94      0.95      4425\n",
      "\n",
      "    accuracy                           0.99    149450\n",
      "   macro avg       0.98      0.97      0.98    149450\n",
      "weighted avg       0.99      0.99      0.99    149450\n",
      "\n"
     ]
    }
   ],
   "source": [
    "print(classification_report(debground, debpred))"
   ]
  },
  {
   "cell_type": "code",
   "execution_count": 26,
   "metadata": {},
   "outputs": [
    {
     "name": "stdout",
     "output_type": "stream",
     "text": [
      "              precision    recall  f1-score   support\n",
      "\n",
      "           0       1.00      1.00      1.00    131929\n",
      "           1       0.98      0.98      0.98     24047\n",
      "           2       0.96      0.93      0.94      4997\n",
      "\n",
      "    accuracy                           0.99    160973\n",
      "   macro avg       0.98      0.97      0.97    160973\n",
      "weighted avg       0.99      0.99      0.99    160973\n",
      "\n"
     ]
    }
   ],
   "source": [
    "print(classification_report(drobground, drobpred))"
   ]
  },
  {
   "cell_type": "code",
   "execution_count": 32,
   "metadata": {},
   "outputs": [
    {
     "data": {
      "image/png": "[encoded data removed]",
      "text/plain": [
       "<Figure size 640x480 with 1 Axes>"
      ]
     },
     "metadata": {},
     "output_type": "display_data"
    }
   ],
   "source": [
    "import matplotlib.pyplot as plt\n",
    "\n",
    "x = np.array([\"DeBERTaV3 \\nF1 Score\", \"DistilRoBERTa \\nF1 Score\",\"InstaFoodRoBERTa \\nF1 Score\", \"DeBERTaV3 \\nAccuracy\", \"DistilRoBERTa \\nAccuracy\",\"InstaFoodRoBERTa \\nAccuracy\"])\n",
    "y = np.array([f1_score(debground, debpred, average='macro'), f1_score(drobground, drobpred, average='macro'), 0.49, accuracy_score(debground, debpred), accuracy_score(drobground, drobpred), 0.9])\n",
    "\n",
    "plt.bar(x,y)\n",
    "plt.title('Testing Scores for Missing Ingredient Error NER')\n",
    "plt.ylim(0.9,1)\n",
    "plt.axhline(y=max([f1_score(debground, debpred, average='macro'), f1_score(drobground, drobpred, average='macro')]),linewidth=1, color='red')\n",
    "plt.axhline(y=max([accuracy_score(debground, debpred), accuracy_score(drobground, drobpred)]),linewidth=1, color='red')\n",
    "plt.show()"
   ]
  }
 ],
 "metadata": {
  "kernelspec": {
   "display_name": "Python 3",
   "language": "python",
   "name": "python3"
  },
  "language_info": {
   "codemirror_mode": {
    "name": "ipython",
    "version": 3
   },
   "file_extension": ".py",
   "mimetype": "text/x-python",
   "name": "python",
   "nbconvert_exporter": "python",
   "pygments_lexer": "ipython3",
   "version": "3.10.11"
  }
 },
 "nbformat": 4,
 "nbformat_minor": 2
}
