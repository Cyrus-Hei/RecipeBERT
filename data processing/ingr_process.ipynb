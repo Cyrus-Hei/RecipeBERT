{
 "cells": [
  {
   "cell_type": "code",
   "execution_count": 1,
   "metadata": {},
   "outputs": [],
   "source": [
    "import pandas as pd\n",
    "import ast\n",
    "import json"
   ]
  },
  {
   "cell_type": "code",
   "execution_count": 2,
   "metadata": {},
   "outputs": [],
   "source": [
    "# df = pd.read_csv('RecipeNLG_dataset.csv')"
   ]
  },
  {
   "cell_type": "code",
   "execution_count": 4,
   "metadata": {},
   "outputs": [
    {
     "data": {
      "text/html": [
       "<div>\n",
       "<style scoped>\n",
       "    .dataframe tbody tr th:only-of-type {\n",
       "        vertical-align: middle;\n",
       "    }\n",
       "\n",
       "    .dataframe tbody tr th {\n",
       "        vertical-align: top;\n",
       "    }\n",
       "\n",
       "    .dataframe thead th {\n",
       "        text-align: right;\n",
       "    }\n",
       "</style>\n",
       "<table border=\"1\" class=\"dataframe\">\n",
       "  <thead>\n",
       "    <tr style=\"text-align: right;\">\n",
       "      <th></th>\n",
       "      <th>Unnamed: 0</th>\n",
       "      <th>title</th>\n",
       "      <th>ingredients</th>\n",
       "      <th>directions</th>\n",
       "      <th>link</th>\n",
       "      <th>source</th>\n",
       "      <th>NER</th>\n",
       "    </tr>\n",
       "  </thead>\n",
       "  <tbody>\n",
       "    <tr>\n",
       "      <th>4858</th>\n",
       "      <td>4858</td>\n",
       "      <td>Elephant Stew</td>\n",
       "      <td>[\"1 elephant, medium size\", \"2 rabbits (option...</td>\n",
       "      <td>[\"Cut up elephant in bite size pieces.\", \"This...</td>\n",
       "      <td>www.cookbooks.com/Recipe-Details.aspx?id=362882</td>\n",
       "      <td>Gathered</td>\n",
       "      <td>[\"rabbits\", \"salt\"]</td>\n",
       "    </tr>\n",
       "    <tr>\n",
       "      <th>9238</th>\n",
       "      <td>9238</td>\n",
       "      <td>Elephant Stew</td>\n",
       "      <td>[\"1 elephant\", \"brown gravy (leftover or prepa...</td>\n",
       "      <td>[\"Cut elephant into bite size pieces.\", \"This ...</td>\n",
       "      <td>www.cookbooks.com/Recipe-Details.aspx?id=698049</td>\n",
       "      <td>Gathered</td>\n",
       "      <td>[\"elephant\", \"brown gravy\", \"peas\", \"rabbits\",...</td>\n",
       "    </tr>\n",
       "    <tr>\n",
       "      <th>10870</th>\n",
       "      <td>10870</td>\n",
       "      <td>Elephant Stew</td>\n",
       "      <td>[\"1 large elephant\", \"brown gravy\", \"salt and ...</td>\n",
       "      <td>[\"Cut elephant into bite size pieces.\", \"This ...</td>\n",
       "      <td>www.cookbooks.com/Recipe-Details.aspx?id=892229</td>\n",
       "      <td>Gathered</td>\n",
       "      <td>[\"elephant\", \"brown gravy\", \"salt\", \"mushrooms...</td>\n",
       "    </tr>\n",
       "    <tr>\n",
       "      <th>15301</th>\n",
       "      <td>15301</td>\n",
       "      <td>Elephant Stew</td>\n",
       "      <td>[\"1 elephant (medium-size)\", \"salt and pepper ...</td>\n",
       "      <td>[\"Cut elephant into small bite-size pieces.\", ...</td>\n",
       "      <td>www.cookbooks.com/Recipe-Details.aspx?id=932077</td>\n",
       "      <td>Gathered</td>\n",
       "      <td>[\"salt\", \"rabbits\", \"brown gravy\"]</td>\n",
       "    </tr>\n",
       "    <tr>\n",
       "      <th>19966</th>\n",
       "      <td>19966</td>\n",
       "      <td>Elephant Stew</td>\n",
       "      <td>[\"1 young elephant\", \"300 lb. potatoes\", \"50 l...</td>\n",
       "      <td>[\"Cut elephant in bite-size pieces.\", \"Boil fo...</td>\n",
       "      <td>www.cookbooks.com/Recipe-Details.aspx?id=738780</td>\n",
       "      <td>Gathered</td>\n",
       "      <td>[\"potatoes\", \"onions\", \"carrots\", \"season\", \"r...</td>\n",
       "    </tr>\n",
       "    <tr>\n",
       "      <th>...</th>\n",
       "      <td>...</td>\n",
       "      <td>...</td>\n",
       "      <td>...</td>\n",
       "      <td>...</td>\n",
       "      <td>...</td>\n",
       "      <td>...</td>\n",
       "      <td>...</td>\n",
       "    </tr>\n",
       "    <tr>\n",
       "      <th>2189148</th>\n",
       "      <td>2189148</td>\n",
       "      <td>Flank Steak With Chimichurri Sauce</td>\n",
       "      <td>[\"1 12 lbs trimmed flank steaks\", \"1 12 teaspo...</td>\n",
       "      <td>[\"FOR THE SAUCE: Puree all the Chimichurri ing...</td>\n",
       "      <td>www.food.com/recipe/flank-steak-with-chimichur...</td>\n",
       "      <td>Recipes1M</td>\n",
       "      <td>[\"kosher salt\", \"ground cumin\", \"ground corian...</td>\n",
       "    </tr>\n",
       "    <tr>\n",
       "      <th>2193024</th>\n",
       "      <td>2193024</td>\n",
       "      <td>Broccoli And Angel Hair Pasta Recipe</td>\n",
       "      <td>[\"1 lrg broccoli head\", \"1 lb Angel hair pasta...</td>\n",
       "      <td>[\"Cut broccoli into small pcs.\", \"Chop elephan...</td>\n",
       "      <td>cookeatshare.com/recipes/broccoli-and-angel-ha...</td>\n",
       "      <td>Recipes1M</td>\n",
       "      <td>[\"hair pasta\", \"Garlic\", \"Margarine\"]</td>\n",
       "    </tr>\n",
       "    <tr>\n",
       "      <th>2210420</th>\n",
       "      <td>2210420</td>\n",
       "      <td>Badda Bing Pizza With Pesto-Esque Sauce</td>\n",
       "      <td>[\"1 pizza crust, see Easy Peezy Pizza Dough (B...</td>\n",
       "      <td>[\"Prepare the pizza dough as indicated in reci...</td>\n",
       "      <td>www.food.com/recipe/badda-bing-pizza-with-pest...</td>\n",
       "      <td>Recipes1M</td>\n",
       "      <td>[\"pizza crust\", \"onion\", \"mushrooms\", \"garlic\"...</td>\n",
       "    </tr>\n",
       "    <tr>\n",
       "      <th>2228274</th>\n",
       "      <td>2228274</td>\n",
       "      <td>Elephant Stew</td>\n",
       "      <td>[\"1 elephant\", \"Brown gravy\", \"2 rabbits (opti...</td>\n",
       "      <td>[\"Cut elephant into small bite-sized pieces.\",...</td>\n",
       "      <td>online-cookbook.com/goto/cook/rpage/000063</td>\n",
       "      <td>Recipes1M</td>\n",
       "      <td>[\"elephant\", \"Brown gravy\", \"rabbits\", \"Salt\"]</td>\n",
       "    </tr>\n",
       "    <tr>\n",
       "      <th>2228710</th>\n",
       "      <td>2228710</td>\n",
       "      <td>Roast Leg of Lamb</td>\n",
       "      <td>[\"1 (5 lb) leg of lamb\", \"1 -2 clove elephant ...</td>\n",
       "      <td>[\"A meat thermometer.\", \"create slits in leg o...</td>\n",
       "      <td>www.food.com/recipe/roast-leg-of-lamb-109184</td>\n",
       "      <td>Recipes1M</td>\n",
       "      <td>[\"lamb\", \"garlic\", \"caraway\", \"water\"]</td>\n",
       "    </tr>\n",
       "  </tbody>\n",
       "</table>\n",
       "<p>340 rows × 7 columns</p>\n",
       "</div>"
      ],
      "text/plain": [
       "         Unnamed: 0                                    title  \\\n",
       "4858           4858                            Elephant Stew   \n",
       "9238           9238                            Elephant Stew   \n",
       "10870         10870                            Elephant Stew   \n",
       "15301         15301                            Elephant Stew   \n",
       "19966         19966                            Elephant Stew   \n",
       "...             ...                                      ...   \n",
       "2189148     2189148       Flank Steak With Chimichurri Sauce   \n",
       "2193024     2193024     Broccoli And Angel Hair Pasta Recipe   \n",
       "2210420     2210420  Badda Bing Pizza With Pesto-Esque Sauce   \n",
       "2228274     2228274                            Elephant Stew   \n",
       "2228710     2228710                        Roast Leg of Lamb   \n",
       "\n",
       "                                               ingredients  \\\n",
       "4858     [\"1 elephant, medium size\", \"2 rabbits (option...   \n",
       "9238     [\"1 elephant\", \"brown gravy (leftover or prepa...   \n",
       "10870    [\"1 large elephant\", \"brown gravy\", \"salt and ...   \n",
       "15301    [\"1 elephant (medium-size)\", \"salt and pepper ...   \n",
       "19966    [\"1 young elephant\", \"300 lb. potatoes\", \"50 l...   \n",
       "...                                                    ...   \n",
       "2189148  [\"1 12 lbs trimmed flank steaks\", \"1 12 teaspo...   \n",
       "2193024  [\"1 lrg broccoli head\", \"1 lb Angel hair pasta...   \n",
       "2210420  [\"1 pizza crust, see Easy Peezy Pizza Dough (B...   \n",
       "2228274  [\"1 elephant\", \"Brown gravy\", \"2 rabbits (opti...   \n",
       "2228710  [\"1 (5 lb) leg of lamb\", \"1 -2 clove elephant ...   \n",
       "\n",
       "                                                directions  \\\n",
       "4858     [\"Cut up elephant in bite size pieces.\", \"This...   \n",
       "9238     [\"Cut elephant into bite size pieces.\", \"This ...   \n",
       "10870    [\"Cut elephant into bite size pieces.\", \"This ...   \n",
       "15301    [\"Cut elephant into small bite-size pieces.\", ...   \n",
       "19966    [\"Cut elephant in bite-size pieces.\", \"Boil fo...   \n",
       "...                                                    ...   \n",
       "2189148  [\"FOR THE SAUCE: Puree all the Chimichurri ing...   \n",
       "2193024  [\"Cut broccoli into small pcs.\", \"Chop elephan...   \n",
       "2210420  [\"Prepare the pizza dough as indicated in reci...   \n",
       "2228274  [\"Cut elephant into small bite-sized pieces.\",...   \n",
       "2228710  [\"A meat thermometer.\", \"create slits in leg o...   \n",
       "\n",
       "                                                      link     source  \\\n",
       "4858       www.cookbooks.com/Recipe-Details.aspx?id=362882   Gathered   \n",
       "9238       www.cookbooks.com/Recipe-Details.aspx?id=698049   Gathered   \n",
       "10870      www.cookbooks.com/Recipe-Details.aspx?id=892229   Gathered   \n",
       "15301      www.cookbooks.com/Recipe-Details.aspx?id=932077   Gathered   \n",
       "19966      www.cookbooks.com/Recipe-Details.aspx?id=738780   Gathered   \n",
       "...                                                    ...        ...   \n",
       "2189148  www.food.com/recipe/flank-steak-with-chimichur...  Recipes1M   \n",
       "2193024  cookeatshare.com/recipes/broccoli-and-angel-ha...  Recipes1M   \n",
       "2210420  www.food.com/recipe/badda-bing-pizza-with-pest...  Recipes1M   \n",
       "2228274         online-cookbook.com/goto/cook/rpage/000063  Recipes1M   \n",
       "2228710       www.food.com/recipe/roast-leg-of-lamb-109184  Recipes1M   \n",
       "\n",
       "                                                       NER  \n",
       "4858                                   [\"rabbits\", \"salt\"]  \n",
       "9238     [\"elephant\", \"brown gravy\", \"peas\", \"rabbits\",...  \n",
       "10870    [\"elephant\", \"brown gravy\", \"salt\", \"mushrooms...  \n",
       "15301                   [\"salt\", \"rabbits\", \"brown gravy\"]  \n",
       "19966    [\"potatoes\", \"onions\", \"carrots\", \"season\", \"r...  \n",
       "...                                                    ...  \n",
       "2189148  [\"kosher salt\", \"ground cumin\", \"ground corian...  \n",
       "2193024              [\"hair pasta\", \"Garlic\", \"Margarine\"]  \n",
       "2210420  [\"pizza crust\", \"onion\", \"mushrooms\", \"garlic\"...  \n",
       "2228274     [\"elephant\", \"Brown gravy\", \"rabbits\", \"Salt\"]  \n",
       "2228710             [\"lamb\", \"garlic\", \"caraway\", \"water\"]  \n",
       "\n",
       "[340 rows x 7 columns]"
      ]
     },
     "execution_count": 4,
     "metadata": {},
     "output_type": "execute_result"
    }
   ],
   "source": [
    "# df[df['ingredients'].str.contains(\"elephant\")]"
   ]
  },
  {
   "cell_type": "code",
   "execution_count": 3,
   "metadata": {},
   "outputs": [],
   "source": [
    "# steps = df['directions'].apply(ast.literal_eval).tolist()"
   ]
  },
  {
   "cell_type": "code",
   "execution_count": 18,
   "metadata": {},
   "outputs": [
    {
     "name": "stdout",
     "output_type": "stream",
     "text": [
      "19628\n",
      "2649\n",
      "['In a small saucepan, combine the sugar, citric acid, and water and let stand for 30 minutes.', 'Then bring the mixture to a boil over medium heat and cook for 2 to 3 minutes, or until the syrup turns pale yellow (the color of canola oil).', 'If the citric acid turns dark yellow during boiling, swirl the pan or stir the contents to distribute.', 'Remove from the heat and pour into a large measuring cup or heatproof bowl.', 'Set the syrup aside for about 4 hours to cool completely.', 'It will thicken and darken a bit as it cools.', 'Then cover with plastic wrap and keep at room temperature.', 'There should be a scant 1 cup syrup.', '(The syrup can be made up to 3 days in advance and kept at room temperature until using.)', 'Position a rack in the middle of the oven and preheat to 250F.', 'Line a baking sheet with parchment paper.', 'Crack each salted egg and separate the yolk from the white, discarding the white and depositing the yolk on the prepared baking sheet.', 'Discard yolks that are liquid, but keep yolks that hold their shape, even if they are partial ones; you can make a double-yolk cake.', 'Once you have enough yolks (either 10 or 12, whole and partial ones combined), stop; the number of yolks needed depends on the size of your mold.', 'Save any left over salted eggs for another use.', 'Bake the egg yolks for 12 to 15 minutes, or until they have lost most of their sheen.', 'You want the yolks to cook sufficiently to hold their shape in the cakes.', 'If the surfaces crack, they have baked a little too long but will be okay in the cakes.', 'Remove the yolks from the oven and let cool.', 'When cool enough to handle, use your fingers or a paring knife to pry the yolks from the baking sheet.', 'Trim each yolk so that it is as round as possible and place on a plate or in a plastic container.', 'Cover and set aside.', 'Put the pork fatback, Char Siu Pork, and sausage in a bowl and use a fork to combine well.', 'Add the powdered sugar and toss to coat the pork and sausage thoroughly.', 'Set aside for at least 30 minutes or up to 1 hour to marinate.', 'The meat will look wet as it absorbs the sugar.', 'Put the marinated meats and the sunflower seeds, walnuts, cashews, almonds, sesame seeds, crystallized ginger, candied citron, chicken, sugar, and corn syrup into a 12-inch nonstick skillet.', 'Place over medium heat and saute gently for about 10 minutes, or until the pieces of fatback are clear and the sugar has melted.', '(If you taste some, you should detect just a bit of graininess from the sugar.)', 'Turn off the heat and wait for the bubbling sugar to subside before stirring in the liquor and lime zest.', 'Let cool for 30 minutes before continuing.', 'To shape the filling into balls, line the baking sheet with fresh parchment paper and gather the following: the filling, plastic wrap, the baked yolks, and a scale.', 'Tear off 4 pieces of plastic wrap each about 20 inches long, and fold each piece in half.', 'Put a folded sheet on the scale.', 'Scoop up 1/3 cup of the filling and deposit it on the plastic wrap.', 'Make a depression in the middle, and put an egg yolk in the depression.', 'Top with 1 to 2 tablespoons of the filling to achieve the total weight you want: 3 ounces for a 1/2-cup mold, or 3 1/2 ounces for a 2/3-cup mold.', 'Gather up the edges of the plastic wrap and pick up the bundle in one hand.', 'With the other hand, twist and squeeze the plastic to compress the filling into a ball the size of a tangerine (about 2 1/4 inches in diameter).', 'Use some pressure to make sure the elements have stuck together.', 'Undo the plastic and roll the filling onto the prepared baking sheet.', 'Th e ball should hold together as it sits.', 'If it falls apart, squeeze it back into shape.', 'Repeat with the remaining filling, using new pieces of plastic wrap as the old ones get too tacky to release the balls easily once they are shaped.', '(If lots of clear, thickish liquid remains toward the end, dont try to use it all, or the filling will be too wet.)', 'Set the balls of filling aside.', 'Add the 1/4 cup oil, 3 tablespoons caramel sauce, and potassium bicarbonate solution to the sugar syrup.', 'Use a rubber spatula to stir for about 1 minute, or until the mixture has increased in volume, is opaque, and is a rich caramel color.', 'If necessary, add caramel sauce, 1/4 teaspoon at a time, to darken.', 'Put the 2 3/4 cups flour into a large bowl and make a well in the center.', 'Pour the sugar syrup mixture into the well and use the spatula to stir until you have a soft dough with the texture of marzipan.', 'Turn the dough out onto a lightly floured work surface and knead in about 2 tablespoons flour to create a smooth, very malleable, slightly tacky dough.', 'It may spread a bit when left to sit.', 'Shape the dough into a log 2 inches in diameter.', 'For 1/2-cup molds, cut the log at scant 1-inch intervals to yield 2-ounce pieces; for 2/3-cup molds, cut at 1-inch intervals to yield 2 1/2-ounce pieces.', 'Weigh each piece for accuracy, pinching off or adding on dough as necessary.', 'Save extra dough for emergency patching up.', 'Cover the dough pieces loosely with plastic wrap and set aside.', '(The dough may be prepared 1 hour in advance of shaping the cakes.)', 'Set up a station that allows you to whack the wooden mold firmly against a hard surface.', 'Kitchen counters are not good.', 'I typically put a piece of plywood and a section of a two-by-four on a dining room chair.', 'Both pieces of wood should roughly span the width of the chair.', 'The plywood does not have to match the depth of the chair.', 'Position the wood pieces at the edge of the chair.', 'The thin, wide plywood acts as a stabilizer, while the thicker two-by-four takes the pressure.', '(If you want to protect the floor, fold a towel or blanket to create a double or triple thickness and put it under the chairs feet.)', 'When you are satisfied with the setup, take the mold by the handle and practice the whacking sequence outlined in step 17.', 'Strike with confidence and strength to get a loud whack.', 'If your arrangement seems sufficiently sturdy, continue to the next step.', 'Set up a station for shaping the moon cakes near the whacking station, outfitting it with the following: a large work surface (such as a cutting board), flour for dusting, a small bowl of oil, a pastry brush, a rolling pin (preferably an Asian-style pin, which is essentially a 1-inch wood dowel), the dough pieces, the balls of filling, and the mold(s).', 'Line 2 baking sheets with parchment paper, oil the paper, and place them with the other tools.', 'To shape each moon cake, first oil and flour the mold.', 'Use a pastry brush dipped in oil to coat the carved surfaces lightly.', 'Sprinkle in some flour and tap the mold against your hand to spread the flour evenly over the entire interior surface.', 'Invert and tap the mold against the sink to remove excess flour.', 'Set the prepared mold by your work area.', 'Lightly flour the work surface and place a piece of dough on top of it.', 'With a lightly floured hand, smack the dough to flatten it to a 1/4-inch-thick disk.', 'Flip it over.', 'Quickly dip 2 fingers into the oil and very lightly oil the rolling pin; this tiny bit of oil makes the dough easier to manipulate.', 'With short, fast strokes, roll the dough away from its center, leaving a plump, roughly 1-inch-wide belly in the middle.', 'With each roll, pick up the dough and give it a quarter turn to prevent sticking.', 'When it is about 4 inches in diameter, stop turning the dough and make the final passes to create a circle 5 to 5 1/2 inches in diameter and a generous 1/8 inch thick at the edge.', 'This Chinese method of rolling dough ensures an even thickness all around the cake.', '(If the dough sticks or breaks, scrape it up with a plastic dough scraper or knife, knead it back into a ball, and start over.', 'It is a forgiving dough.)', 'Pick up the dough circle and put it in one hand.', 'Place a ball of filling in the center of the circle, and then invert the entire thing into the other hand; the dough will naturally droop over the filling.', '(The dough side that now faces you will be the pretty top of the cake.)', 'Pass the ball back to the other hand so that the bottom of the cake now faces upward.', 'Cupping the cake in one hand, use the fingers of your other hand to seal the dough, completely encasing the filling.', 'Gently press, nudge, and mold the dough as needed.', 'Once sealed, cup the ball in both hands and gently roll and pat it smooth.', 'The pastry will take on a slight sheen.', 'Place the ball, top side down, into the mold.', 'Using the fleshy part of your hand between the base of your thumb and wrist, press the ball into the mold.', 'Try to apply even pressure.', 'Once the cake has filled the mold, go around the edge to press the pastry inward gently and away from the side walls of the mold.', 'Th is helps the cake to release.', 'To loosen the cake from the mold, step over to your whacking station.', 'Take the handle of the mold and firmly whack it against the wood in this precise order: The first 4 whacks are applied to each side of the mold (left , top, right, and bottom).', 'For the dramatic fifth and final whack, turn the mold so that the cake faces down and place your hand underneath to catch the cake as it falls out.', 'Place the cake on the baking sheet.', 'Repeat with the remaining dough and filling, spacing the cakes about 2 inches apart on the baking sheets.', 'As you work, take note of the following: If the cake threatens to jump out of the mold while you are whacking, immediately reduce the amount of pressure and continue through the entire sequence.', 'If you have to set the ball of filling and dough down at any time, place it on a floured surface to prevent sticking.', 'Because the carved impressions dull as oil and flour accumulate in the mold, occasionally pause between shaping the cakes to clean out the mold.', '(Use 2 molds and you will clean less often.)', 'For cleaning, use a toothpick, skewer, or the tip of a paring knife to dislodge bits.', 'A hard spray of water from the sink faucet also helps.', 'After spraying, dry the mold with paper towels before oiling and flouring it for the next cake.', 'Position a rack in the lower third of the oven and preheat to 250F.', 'Meanwhile, make the glaze by combining the egg yolks and caramel sauce in a small bowl and mixing with a fork until well blended.', 'Pass the glaze through a fine-mesh sieve into another small bowl.', 'Discard the solids and set the bowl aside.', 'Fill the spray bottle halfway with water and set aside.', 'Use a toothpick to poke 3 or 4 air vents into the top of each cake, about 1/4 inch deep.', '(This helps the cakes bake more evenly.)', 'Flat toothpicks make less conspicuous holes than round ones.', 'Baking moon cakes is a three-step process, and you must bake only 1 sheet at a time.', 'Loosely cover the unbaked cakes on 1 sheet with parchment paper.', 'Slip the other sheet into the oven and bake for 22 to 25 minutes, or until the cakes look dull and a little puffed.', 'Remove from the oven, and immediately spray the cakes with water to soften the dough.', 'Wait for about 2 minutes, or until the water is absorbed, and then use your fingers to push and straighten up the cakes.', '(They are not that hot.)', 'This cosmetic surgery helps to produce prettier cakes.', 'Ideally, the sides should be straight, not flared.', 'The cakes should retain most of their out-of-the-mold appearance but be slightly puffed.', 'Once you are satisfied with how the cakes look, brush the tops with the glaze and return the cakes to the oven.', 'Bake this second time for 10 minutes.', 'Remove the cakes from the oven, brush again with the glaze, and return to the oven.', 'Bake for a final 10 minutes, or until the tops are richly colored and shiny.', 'Remove from the oven and put on a rack to cool.', 'When the cakes are cool enough to handle, after about 30 minutes, you may straighten any lopsided, unsightly cakes.', 'While the first baking sheet cools, bake the second sheet.', 'As the moon cakes cool, they darken from the caramel sauce in the dough and glaze.', 'When they are completely cool, store them in an airtight plastic container.', 'Before eating them, allow them to age for 1 to 2 days to soften the pastry and develop the flavors.', 'They will keep at room temperature for up to 5 days and in the refrigerator for up to 2 weeks.', 'Enjoy them at room temperature, cut into small wedges.', 'To freeze, wrap each cake in plastic wrap and place the cakes on a baking sheet.', 'Put the baking sheet in the freezer for several hours, or until the cakes are hard.', 'Transfer the cakes to zip-top plastic bags and freeze for up to 6 months.', 'To thaw, remove the plastic wrap from the still-frozen cakes, put the cakes in an airtight plastic container, and let stand at room temperature for 1 to 2 days before cutting and eating.', 'Wooden moon cake molds are typically sold at Chinese and Vietnamese cookware stores, especially as the holiday nears.', 'Or, check the Resources section (page 335) for an online vendor.', 'Look for molds with holes pierced on the sides; they provide handy drainage and air vents.', 'Moon cake molds hold either 1/2 cup or 2/3 cup and are sometimes marked 150 or 200 grams, respectively.', 'If you are unsure, fill the mold with water to determine the size.', 'For your first time making moon cakes, use the larger mold (about 2 3/4 inches in diameter and 1 1/4 inches deep), which is easier to work with.', 'Molds from Vietnam are for making either baked moon cakes (this recipe) or for chewy unbaked cakes called banh deo (also eaten on this holiday).', 'In general, molds for the former are carved with small, delicate scalloped edges, while molds for the latter have much bigger, robust edges.', 'Although I have made this recipe with both kinds of molds, the cakes are prettiest when made with the proper mold.', 'Here are some tips for locating ingredients:', 'Citric acid, sold in crystallized form as sour salt (also called citric salt), is usually stocked in the kosher-food section of mainstream supermarkets.', 'Potassium bicarbonate solution (lye water) is sold at Chinese markets in glass bottles shelved near the vinegars.', 'Sorghum and rose petal liquor (mei kwei lu chiu) is available at Chinese markets, too.', 'Look for the Chinese name on the bottles or boxes.', 'It is also great for sipping.', 'Health-food stores with a bulk section are great places to buy small quantities of nuts.', 'Candied citron and fruitcake mix are seasonal ingredients that may be stored for several years.', 'Buy a small supply in November, when they are sold for holiday baking.', 'See page 169 for tips on finding pork fatback.']\n"
     ]
    }
   ],
   "source": [
    "# max = 0\n",
    "# maxl = None\n",
    "# count = 0\n",
    "# for l in steps:\n",
    "#     slen = len(\" \".join(l).split())\n",
    "#     if slen > 400:\n",
    "#         count += 1\n",
    "#     if slen > max:\n",
    "#         max = slen\n",
    "#         maxl = l\n",
    "# print(count)\n",
    "# print(max)\n",
    "# print(maxl)"
   ]
  },
  {
   "cell_type": "code",
   "execution_count": 22,
   "metadata": {},
   "outputs": [],
   "source": [
    "# steps400 = [\" \".join(l) for l in steps if len(\" \".join(l).split()) <= 400]"
   ]
  },
  {
   "cell_type": "code",
   "execution_count": 26,
   "metadata": {},
   "outputs": [],
   "source": [
    "# with open(\"steps400w.json\", \"w\") as f:\n",
    "#     json.dump(steps400[:100000], f)"
   ]
  },
  {
   "cell_type": "code",
   "execution_count": 27,
   "metadata": {},
   "outputs": [],
   "source": [
    "# with open(\"steps400wfull.json\", \"w\") as f:\n",
    "#     json.dump(steps400, f)"
   ]
  },
  {
   "cell_type": "code",
   "execution_count": 2,
   "metadata": {},
   "outputs": [],
   "source": [
    "df = pd.read_parquet(\"nlg_refined.gzip\")"
   ]
  },
  {
   "cell_type": "code",
   "execution_count": 3,
   "metadata": {},
   "outputs": [],
   "source": [
    "df = df[df.source == \"Gathered\"]"
   ]
  },
  {
   "cell_type": "code",
   "execution_count": 4,
   "metadata": {},
   "outputs": [],
   "source": [
    "ingr = df['ingr'].tolist()"
   ]
  },
  {
   "cell_type": "code",
   "execution_count": 13,
   "metadata": {},
   "outputs": [
    {
     "data": {
      "text/plain": [
       "array(['1 egg, beaten', '1 stick butter', '1 c. sugar', '1 tsp. vanilla',\n",
       "       '2 c. self-rising flour'], dtype=object)"
      ]
     },
     "execution_count": 13,
     "metadata": {},
     "output_type": "execute_result"
    }
   ],
   "source": [
    "ingr[45245]"
   ]
  },
  {
   "cell_type": "code",
   "execution_count": 8,
   "metadata": {},
   "outputs": [],
   "source": [
    "def is_frac(string):\n",
    "    l = string.split(\"/\")\n",
    "    # print(l)\n",
    "    try:\n",
    "        l = [int(w) for w in l]\n",
    "    except:\n",
    "        return False\n",
    "    if len(l) == 1:\n",
    "        return l[0]\n",
    "    return round(l[0]/l[1], 2)"
   ]
  },
  {
   "cell_type": "code",
   "execution_count": 9,
   "metadata": {},
   "outputs": [],
   "source": [
    "ingr_sent = []\n",
    "new_ingr = []\n",
    "for l in ingr:\n",
    "    temp_ingr = []\n",
    "    for i in l:\n",
    "        i = i.replace(\"(\", \"( \").replace(\")\", \" )\")\n",
    "        temp_split = i.split()\n",
    "        # print(temp_split)\n",
    "        for ind in range(len(temp_split)):\n",
    "            frac = is_frac(temp_split[ind])\n",
    "            if frac:\n",
    "                temp_split[ind] = frac\n",
    "        merge_temp = []\n",
    "        for ind in range(len(temp_split)):\n",
    "            try:\n",
    "                int(temp_split[ind])\n",
    "                if isinstance(merge_temp[-1], int):\n",
    "                    merge_temp[-1] += temp_split[ind]\n",
    "                else:\n",
    "                    merge_temp.append(temp_split[ind])\n",
    "            except:\n",
    "                merge_temp.append(temp_split[ind])\n",
    "        temp_ingr.append(\" \".join([str(w) for w in merge_temp]).replace(\"( \", \"(\").replace(\" )\", \")\"))\n",
    "    new_ingr.append(temp_ingr)"
   ]
  },
  {
   "cell_type": "code",
   "execution_count": 11,
   "metadata": {},
   "outputs": [],
   "source": [
    "savedf = pd.DataFrame({'ingr':new_ingr})"
   ]
  },
  {
   "cell_type": "code",
   "execution_count": 13,
   "metadata": {},
   "outputs": [],
   "source": [
    "savedf.to_parquet('./bert/ingredient check/ingr1650k.gzip', compression='gzip')"
   ]
  }
 ],
 "metadata": {
  "kernelspec": {
   "display_name": "Python 3",
   "language": "python",
   "name": "python3"
  },
  "language_info": {
   "codemirror_mode": {
    "name": "ipython",
    "version": 3
   },
   "file_extension": ".py",
   "mimetype": "text/x-python",
   "name": "python",
   "nbconvert_exporter": "python",
   "pygments_lexer": "ipython3",
   "version": "3.10.11"
  }
 },
 "nbformat": 4,
 "nbformat_minor": 2
}
